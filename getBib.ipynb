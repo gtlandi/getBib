{
 "cells": [
  {
   "cell_type": "code",
   "execution_count": 57,
   "id": "a5efc266-b628-40bd-b75b-0674e2440da4",
   "metadata": {},
   "outputs": [],
   "source": [
    "# Might need to install the packages below using \n",
    "# \"pip install urllib\" \n",
    "#  and \n",
    "# \"pip install arxiv\"\n",
    "#  and \n",
    "# \"pip install unidecode\"\n",
    "#  and \n",
    "# \"pip install Levenshtein\"\n",
    "#  and \n",
    "# \"pip install json\"\n",
    "\n",
    "\n",
    "import urllib.request\n",
    "import arxiv\n",
    "import unidecode\n",
    "import json\n",
    "from urllib.error import HTTPError\n",
    "from urllib.parse import quote_plus, urlencode\n",
    "from urllib.request import urlopen, Request\n",
    "from Levenshtein import ratio, matching_blocks, editops\n",
    "import string\n",
    "\n",
    "\n",
    "def DOI_2_bib(doi):    \n",
    "    doi_req = urllib.request.Request('http://dx.doi.org/' + doi)\n",
    "    doi_req.add_header('Accept', 'application/x-bibtex')     \n",
    "    with urllib.request.urlopen(doi_req) as f:\n",
    "        output = f.read().decode()\n",
    "        print(output)\n",
    "        return output\n",
    "    \n",
    "    \n",
    "def arXib_bib_format(paper):\n",
    "    author_list = ' and '.join([str(author) for author in paper.authors])\n",
    "    citation_key = str(paper.authors[0]).split(' ')[-1] + '_' + str(paper.published.year)\n",
    "    citation_key = unidecode.unidecode(citation_key)\n",
    "    return f'''@article{{{citation_key},\n",
    "         title = {{{paper.title}}},\n",
    "         author = {{{author_list.strip()} }},\n",
    "         year = {{{paper.published.year}}},\n",
    "         eprint = {{{paper.get_short_id()}}}, \n",
    "         archivePrefix = {{arXiv}},      \n",
    "         primaryClass ={{{paper.categories[0]}}}\n",
    "}}\n",
    "    '''\n",
    "\n",
    "def arXiv_2_bib(ID):\n",
    "    search = arxiv.Search(id_list=[ID])\n",
    "    paper = next(search.results())\n",
    "    doi = paper.doi\n",
    "    try: \n",
    "        return DOI_2_bib(doi)\n",
    "    except: \n",
    "        print(arXib_bib_format(paper))  \n",
    "        return arXib_bib_format(paper)\n",
    "    \n",
    "    \n",
    "# adapted from https://github.com/OpenAPC/openapc-de/blob/master/python/import_dois.py    \n",
    "def title_to_doi(title):\n",
    "    \n",
    "    api_url = \"https://api.crossref.org/works?\"\n",
    "    params = {\"rows\": \"5\", \"query.bibliographic\": title}\n",
    "    url = api_url + urlencode(params, quote_via=quote_plus)\n",
    "    request = Request(url)\n",
    "\n",
    "    try:\n",
    "        ret = urlopen(request)\n",
    "        content = ret.read()\n",
    "        data = json.loads(content)\n",
    "        items = data[\"message\"][\"items\"]\n",
    "        most_similar = {\n",
    "                \"crossref_title\": \"\",\n",
    "                \"similarity\": 0,\n",
    "                \"doi\": \"\"\n",
    "                }\n",
    "        for item in items:\n",
    "            if \"title\" not in item:\n",
    "                continue\n",
    "            title = item[\"title\"].pop()\n",
    "            result = {\n",
    "                \"crossref_title\": title,\n",
    "                \"similarity\": ratio(title.lower(), params[\"query.bibliographic\"].lower()),\n",
    "                \"doi\": item[\"DOI\"]\n",
    "            }\n",
    "            if most_similar[\"similarity\"] < result[\"similarity\"]:\n",
    "                most_similar = result\n",
    "        print(\"Best match found: \" + most_similar[\"crossref_title\"])\n",
    "        print(\"Similarity = \" + str(most_similar[\"similarity\"]))\n",
    "        print()\n",
    "        return most_similar[\"doi\"]\n",
    "    except HTTPError as httpe:\n",
    "        print('No DOI matches found for this title')\n",
    "        return 0\n",
    "    \n",
    "    \n",
    "def getBib(ID):    \n",
    "    if (len(ID.split()) > 1):  # means ID is actually the title\n",
    "        return DOI_2_bib(title_to_doi(ID)) # title > doi > bib\n",
    "    else: \n",
    "        try: \n",
    "            return DOI_2_bib(ID)\n",
    "        except:\n",
    "            return arXiv_2_bib(ID)\n",
    "    "
   ]
  },
  {
   "cell_type": "code",
   "execution_count": 46,
   "id": "d5c7e082-e3a0-4af7-8163-e2dfc8b9b4db",
   "metadata": {},
   "outputs": [
    {
     "name": "stdout",
     "output_type": "stream",
     "text": [
      "@article{Fawzi_2015,\n",
      "\tdoi = {10.1007/s00220-015-2466-x},\n",
      "\turl = {https://doi.org/10.1007%2Fs00220-015-2466-x},\n",
      "\tyear = 2015,\n",
      "\tmonth = {sep},\n",
      "\tpublisher = {Springer Science and Business Media {LLC}},\n",
      "\tvolume = {340},\n",
      "\tnumber = {2},\n",
      "\tpages = {575--611},\n",
      "\tauthor = {Omar Fawzi and Renato Renner},\n",
      "\ttitle = {Quantum Conditional Mutual Information and Approximate Markov Chains},\n",
      "\tjournal = {Communications in Mathematical Physics}\n",
      "}\n"
     ]
    }
   ],
   "source": [
    "getBib('1410.0664');"
   ]
  },
  {
   "cell_type": "code",
   "execution_count": 59,
   "id": "8f4ea455-0933-4380-af8a-02144776fb20",
   "metadata": {},
   "outputs": [
    {
     "name": "stdout",
     "output_type": "stream",
     "text": [
      "Best match found: Machine learning the thermodynamic arrow of time\n",
      "Similarity = 1.0\n",
      "\n",
      "@article{Seif_2020,\n",
      "\tdoi = {10.1038/s41567-020-1018-2},\n",
      "\turl = {https://doi.org/10.1038%2Fs41567-020-1018-2},\n",
      "\tyear = 2020,\n",
      "\tmonth = {sep},\n",
      "\tpublisher = {Springer Science and Business Media {LLC}},\n",
      "\tvolume = {17},\n",
      "\tnumber = {1},\n",
      "\tpages = {105--113},\n",
      "\tauthor = {Alireza Seif and Mohammad Hafezi and Christopher Jarzynski},\n",
      "\ttitle = {Machine learning the thermodynamic arrow of time},\n",
      "\tjournal = {Nature Physics}\n",
      "}\n"
     ]
    }
   ],
   "source": [
    "getBib('Machine learning the thermodynamic arrow of time');"
   ]
  },
  {
   "cell_type": "code",
   "execution_count": 49,
   "id": "f7c8ca9c-fd01-469e-a9d8-b601b42bf388",
   "metadata": {},
   "outputs": [
    {
     "name": "stdout",
     "output_type": "stream",
     "text": [
      "@article{Seif_2020,\n",
      "\tdoi = {10.1038/s41567-020-1018-2},\n",
      "\turl = {https://doi.org/10.1038%2Fs41567-020-1018-2},\n",
      "\tyear = 2020,\n",
      "\tmonth = {sep},\n",
      "\tpublisher = {Springer Science and Business Media {LLC}},\n",
      "\tvolume = {17},\n",
      "\tnumber = {1},\n",
      "\tpages = {105--113},\n",
      "\tauthor = {Alireza Seif and Mohammad Hafezi and Christopher Jarzynski},\n",
      "\ttitle = {Machine learning the thermodynamic arrow of time},\n",
      "\tjournal = {Nature Physics}\n",
      "}\n"
     ]
    }
   ],
   "source": [
    "getBib('10.1038/s41567-020-1018-2');"
   ]
  },
  {
   "cell_type": "code",
   "execution_count": 51,
   "id": "a18c0356-d116-47cd-88d1-3b2cf9d21972",
   "metadata": {},
   "outputs": [
    {
     "name": "stdout",
     "output_type": "stream",
     "text": [
      "@article{Rossi_2020,\n",
      "\tdoi = {10.1103/physrevlett.125.080601},\n",
      "\turl = {https://doi.org/10.1103%2Fphysrevlett.125.080601},\n",
      "\tyear = 2020,\n",
      "\tmonth = {aug},\n",
      "\tpublisher = {American Physical Society ({APS})},\n",
      "\tvolume = {125},\n",
      "\tnumber = {8},\n",
      "\tauthor = {Massimiliano Rossi and Luca Mancino and Gabriel T. Landi and Mauro Paternostro and Albert Schliesser and Alessio Belenchia},\n",
      "\ttitle = {Experimental Assessment of Entropy Production in a Continuously Measured Mechanical Resonator},\n",
      "\tjournal = {Physical Review Letters}\n",
      "}\n"
     ]
    }
   ],
   "source": [
    "getBib('10.1103/PhysRevLett.125.080601');"
   ]
  },
  {
   "cell_type": "code",
   "execution_count": 52,
   "id": "3701ce99-4c29-4bf8-86b1-a2f24edd5429",
   "metadata": {},
   "outputs": [
    {
     "name": "stdout",
     "output_type": "stream",
     "text": [
      "@article{Al_Assam_2017,\n",
      "\tdoi = {10.1088/1742-5468/aa7df3},\n",
      "\turl = {https://doi.org/10.1088%2F1742-5468%2Faa7df3},\n",
      "\tyear = 2017,\n",
      "\tmonth = {sep},\n",
      "\tpublisher = {{IOP} Publishing},\n",
      "\tvolume = {2017},\n",
      "\tnumber = {9},\n",
      "\tpages = {093102},\n",
      "\tauthor = {S Al-Assam and S R Clark and D Jaksch},\n",
      "\ttitle = {The tensor network theory library},\n",
      "\tjournal = {Journal of Statistical Mechanics: Theory and Experiment}\n",
      "}\n"
     ]
    }
   ],
   "source": [
    "getBib('1610.02244');"
   ]
  }
 ],
 "metadata": {
  "kernelspec": {
   "display_name": "Python 3 (ipykernel)",
   "language": "python",
   "name": "python3"
  },
  "language_info": {
   "codemirror_mode": {
    "name": "ipython",
    "version": 3
   },
   "file_extension": ".py",
   "mimetype": "text/x-python",
   "name": "python",
   "nbconvert_exporter": "python",
   "pygments_lexer": "ipython3",
   "version": "3.9.7"
  }
 },
 "nbformat": 4,
 "nbformat_minor": 5
}
