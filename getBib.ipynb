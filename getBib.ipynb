{
 "cells": [
  {
   "cell_type": "code",
   "execution_count": 24,
   "id": "a5efc266-b628-40bd-b75b-0674e2440da4",
   "metadata": {},
   "outputs": [],
   "source": [
    "# Might need to install the packages below using \n",
    "# \"pip install urllib\" \n",
    "#  and \n",
    "# \"pip install arxiv\"\n",
    "#  and \n",
    "# \"pip install unidecode\"\n",
    "\n",
    "import urllib.request\n",
    "import arxiv\n",
    "import unidecode\n",
    "\n",
    "\n",
    "def DOI_2_bib(doi):    \n",
    "    doi_req = urllib.request.Request('http://dx.doi.org/' + doi)\n",
    "    doi_req.add_header('Accept', 'application/x-bibtex') \n",
    "    with urllib.request.urlopen(doi_req) as f:\n",
    "        print(f.read().decode())\n",
    "        # return f.read().decode()\n",
    "    \n",
    "    \n",
    "def arXib_bib_format(paper):\n",
    "    author_list = ' and '.join([str(author) for author in paper.authors])\n",
    "    citation_key = str(paper.authors[0]).split(' ')[-1] + '_' + str(paper.published.year)\n",
    "    citation_key = unidecode.unidecode(citation_key)\n",
    "    return f'''@article{{{citation_key},\n",
    "         title = {{{paper.title}}},\n",
    "         author = {{{author_list.strip()} }},\n",
    "         year = {{{paper.published.year}}},\n",
    "         eprint = {{{paper.get_short_id()}}}, \n",
    "         archivePrefix = {{arXiv}},      \n",
    "         primaryClass ={{{paper.categories[0]}}}\n",
    "}}\n",
    "    '''\n",
    "\n",
    "def arXiv_2_bib(ID):\n",
    "    search = arxiv.Search(id_list=[ID])\n",
    "    paper = next(search.results())\n",
    "    doi = paper.doi\n",
    "    try: \n",
    "        return DOI_2_bib(doi)\n",
    "    except: \n",
    "        return print(arXib_bib_format(paper))    "
   ]
  },
  {
   "cell_type": "code",
   "execution_count": 35,
   "id": "f7c8ca9c-fd01-469e-a9d8-b601b42bf388",
   "metadata": {},
   "outputs": [
    {
     "name": "stdout",
     "output_type": "stream",
     "text": [
      "@article{Seif_2020,\n",
      "\tdoi = {10.1038/s41567-020-1018-2},\n",
      "\turl = {https://doi.org/10.1038%2Fs41567-020-1018-2},\n",
      "\tyear = 2020,\n",
      "\tmonth = {sep},\n",
      "\tpublisher = {Springer Science and Business Media {LLC}},\n",
      "\tvolume = {17},\n",
      "\tnumber = {1},\n",
      "\tpages = {105--113},\n",
      "\tauthor = {Alireza Seif and Mohammad Hafezi and Christopher Jarzynski},\n",
      "\ttitle = {Machine learning the thermodynamic arrow of time},\n",
      "\tjournal = {Nature Physics}\n",
      "}\n"
     ]
    }
   ],
   "source": [
    "DOI_2_bib('10.1038/s41567-020-1018-2')"
   ]
  },
  {
   "cell_type": "code",
   "execution_count": 36,
   "id": "a18c0356-d116-47cd-88d1-3b2cf9d21972",
   "metadata": {},
   "outputs": [
    {
     "name": "stdout",
     "output_type": "stream",
     "text": [
      "@article{Rossi_2020,\n",
      "\tdoi = {10.1103/physrevlett.125.080601},\n",
      "\turl = {https://doi.org/10.1103%2Fphysrevlett.125.080601},\n",
      "\tyear = 2020,\n",
      "\tmonth = {aug},\n",
      "\tpublisher = {American Physical Society ({APS})},\n",
      "\tvolume = {125},\n",
      "\tnumber = {8},\n",
      "\tauthor = {Massimiliano Rossi and Luca Mancino and Gabriel T. Landi and Mauro Paternostro and Albert Schliesser and Alessio Belenchia},\n",
      "\ttitle = {Experimental Assessment of Entropy Production in a Continuously Measured Mechanical Resonator},\n",
      "\tjournal = {Physical Review Letters}\n",
      "}\n"
     ]
    }
   ],
   "source": [
    "DOI_2_bib('10.1103/PhysRevLett.125.080601')"
   ]
  },
  {
   "cell_type": "code",
   "execution_count": 34,
   "id": "8fa600ec-e110-4693-b8cd-832361513fc4",
   "metadata": {},
   "outputs": [
    {
     "name": "stdout",
     "output_type": "stream",
     "text": [
      "@article{Al_Assam_2017,\n",
      "\tdoi = {10.1088/1742-5468/aa7df3},\n",
      "\turl = {https://doi.org/10.1088%2F1742-5468%2Faa7df3},\n",
      "\tyear = 2017,\n",
      "\tmonth = {sep},\n",
      "\tpublisher = {{IOP} Publishing},\n",
      "\tvolume = {2017},\n",
      "\tnumber = {9},\n",
      "\tpages = {093102},\n",
      "\tauthor = {S Al-Assam and S R Clark and D Jaksch},\n",
      "\ttitle = {The tensor network theory library},\n",
      "\tjournal = {Journal of Statistical Mechanics: Theory and Experiment}\n",
      "}\n"
     ]
    }
   ],
   "source": [
    "arXiv_2_bib('1610.02244')"
   ]
  },
  {
   "cell_type": "code",
   "execution_count": 4,
   "id": "5113a6a1-2cc1-4277-8b09-21beb385f5df",
   "metadata": {},
   "outputs": [
    {
     "name": "stdout",
     "output_type": "stream",
     "text": [
      "@article{Kurchan_2000,\n",
      "         title = {A Quantum Fluctuation Theorem},\n",
      "         author = {Jorge Kurchan },\n",
      "         year = {2000},\n",
      "         eprint = {cond-mat/0007360v2}, \n",
      "         archivePrefix = {arXiv},      \n",
      "         primaryClass ={cond-mat.stat-mech}\n",
      "}\n",
      "    \n"
     ]
    }
   ],
   "source": [
    "# If the paper is not published, it will output the arXiv information\n",
    "arXiv_2_bib('cond-mat/0007360')"
   ]
  }
 ],
 "metadata": {
  "kernelspec": {
   "display_name": "Python 3 (ipykernel)",
   "language": "python",
   "name": "python3"
  },
  "language_info": {
   "codemirror_mode": {
    "name": "ipython",
    "version": 3
   },
   "file_extension": ".py",
   "mimetype": "text/x-python",
   "name": "python",
   "nbconvert_exporter": "python",
   "pygments_lexer": "ipython3",
   "version": "3.9.7"
  }
 },
 "nbformat": 4,
 "nbformat_minor": 5
}
